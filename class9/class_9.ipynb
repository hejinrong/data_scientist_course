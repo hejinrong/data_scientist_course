{
 "cells": [
  {
   "cell_type": "markdown",
   "metadata": {},
   "source": [
    "# 数据采集（三）：必须掌握的XPath和CSS选择器语法"
   ]
  },
  {
   "cell_type": "markdown",
   "metadata": {},
   "source": [
    "####  1. XPath语法"
   ]
  },
  {
   "cell_type": "code",
   "execution_count": 105,
   "metadata": {},
   "outputs": [],
   "source": [
    "html_str = '<!DOCTYPE html> \\\n",
    "<html> \\\n",
    "<head> \\\n",
    "    <title>xpath test</title>  \\\n",
    "</head> \\\n",
    "<body> \\\n",
    "<div> \\\n",
    "    <div id=\"info1\"> \\\n",
    "        <ul> \\\n",
    "            <li>姓名</li> \\\n",
    "            <li>年龄</li> \\\n",
    "            <li>公司</li> \\\n",
    "        </ul> \\\n",
    "    </div> \\\n",
    "    <div> \\\n",
    "        <h3>百度搜索引擎 \\\n",
    "            <a href=\"http://www.baidu.com\">百度一下</a> \\\n",
    "        </h3> \\\n",
    "    </div> \\\n",
    "    <div class=\"info2\"> \\\n",
    "        <ul> \\\n",
    "            <li>1</li> \\\n",
    "            <li>2</li> \\\n",
    "            <li>3</li> \\\n",
    "        </ul> \\\n",
    "    </div> \\\n",
    "</div> \\\n",
    "</body> \\\n",
    "</html>'"
   ]
  },
  {
   "cell_type": "code",
   "execution_count": 106,
   "metadata": {},
   "outputs": [
    {
     "data": {
      "text/plain": [
       "'<!DOCTYPE html> <html> <head>     <title>xpath test</title>  </head> <body> <div>     <div id=\"info1\">         <ul>             <li>姓名</li>             <li>年龄</li>             <li>公司</li>         </ul>     </div>     <div>         <h3>百度搜索引擎             <a href=\"http://www.baidu.com\">百度一下</a>         </h3>     </div>     <div class=\"info2\">         <ul>             <li>1</li>             <li>2</li>             <li>3</li>         </ul>     </div> </div> </body> </html>'"
      ]
     },
     "execution_count": 106,
     "metadata": {},
     "output_type": "execute_result"
    }
   ],
   "source": [
    "html_str"
   ]
  },
  {
   "cell_type": "code",
   "execution_count": 107,
   "metadata": {},
   "outputs": [],
   "source": [
    "from lxml import etree"
   ]
  },
  {
   "cell_type": "code",
   "execution_count": 108,
   "metadata": {},
   "outputs": [],
   "source": [
    "root = etree.fromstring(html_str.encode('utf-8')) # 最好传byte string"
   ]
  },
  {
   "cell_type": "code",
   "execution_count": 109,
   "metadata": {},
   "outputs": [
    {
     "data": {
      "text/plain": [
       "'html'"
      ]
     },
     "execution_count": 109,
     "metadata": {},
     "output_type": "execute_result"
    }
   ],
   "source": [
    "root.tag"
   ]
  },
  {
   "cell_type": "code",
   "execution_count": 110,
   "metadata": {},
   "outputs": [
    {
     "data": {
      "text/plain": [
       "'head'"
      ]
     },
     "execution_count": 110,
     "metadata": {},
     "output_type": "execute_result"
    }
   ],
   "source": [
    "root[0].tag"
   ]
  },
  {
   "cell_type": "code",
   "execution_count": 111,
   "metadata": {},
   "outputs": [
    {
     "data": {
      "text/plain": [
       "'body'"
      ]
     },
     "execution_count": 111,
     "metadata": {},
     "output_type": "execute_result"
    }
   ],
   "source": [
    "root[1].tag"
   ]
  },
  {
   "cell_type": "code",
   "execution_count": 112,
   "metadata": {},
   "outputs": [],
   "source": [
    "body = root[1]"
   ]
  },
  {
   "cell_type": "code",
   "execution_count": 113,
   "metadata": {},
   "outputs": [
    {
     "data": {
      "text/plain": [
       "'info1'"
      ]
     },
     "execution_count": 113,
     "metadata": {},
     "output_type": "execute_result"
    }
   ],
   "source": [
    "body[0][0].get('id')"
   ]
  },
  {
   "cell_type": "code",
   "execution_count": 121,
   "metadata": {},
   "outputs": [
    {
     "data": {
      "text/plain": [
       "'info2'"
      ]
     },
     "execution_count": 121,
     "metadata": {},
     "output_type": "execute_result"
    }
   ],
   "source": [
    "body[0][2].get('class')"
   ]
  },
  {
   "cell_type": "code",
   "execution_count": 114,
   "metadata": {},
   "outputs": [
    {
     "data": {
      "text/plain": [
       "[<Element li at 0x26e999c9508>,\n",
       " <Element li at 0x26e999c9208>,\n",
       " <Element li at 0x26e999c9e88>,\n",
       " <Element li at 0x26e999c9ec8>,\n",
       " <Element li at 0x26e999d6108>,\n",
       " <Element li at 0x26e999d6088>]"
      ]
     },
     "execution_count": 114,
     "metadata": {},
     "output_type": "execute_result"
    }
   ],
   "source": [
    "root.xpath(\".//li\")"
   ]
  },
  {
   "cell_type": "code",
   "execution_count": 115,
   "metadata": {},
   "outputs": [
    {
     "name": "stdout",
     "output_type": "stream",
     "text": [
      "姓名\n",
      "年龄\n",
      "公司\n",
      "1\n",
      "2\n",
      "3\n"
     ]
    }
   ],
   "source": [
    "for x in root.xpath(\".//li\"):\n",
    "    print(x.text)"
   ]
  },
  {
   "cell_type": "code",
   "execution_count": 116,
   "metadata": {},
   "outputs": [
    {
     "name": "stdout",
     "output_type": "stream",
     "text": [
      "         \n"
     ]
    }
   ],
   "source": [
    "for x in root.xpath(\".//div[@id='info1']\"):\n",
    "    print(x.text)"
   ]
  },
  {
   "cell_type": "code",
   "execution_count": 117,
   "metadata": {},
   "outputs": [
    {
     "data": {
      "text/plain": [
       "<Element div at 0x26e999c9448>"
      ]
     },
     "execution_count": 117,
     "metadata": {},
     "output_type": "execute_result"
    }
   ],
   "source": [
    "div_inf01 = root.xpath(\".//div[@id='info1']\")[0]\n",
    "div_inf01"
   ]
  },
  {
   "cell_type": "code",
   "execution_count": 118,
   "metadata": {},
   "outputs": [
    {
     "name": "stdout",
     "output_type": "stream",
     "text": [
      "姓名\n",
      "年龄\n",
      "公司\n"
     ]
    }
   ],
   "source": [
    "for x in div_inf01.xpath(\".//li\"):\n",
    "    print(x.text)"
   ]
  },
  {
   "cell_type": "code",
   "execution_count": 119,
   "metadata": {},
   "outputs": [
    {
     "data": {
      "text/plain": [
       "<Element div at 0x26e999c3188>"
      ]
     },
     "execution_count": 119,
     "metadata": {},
     "output_type": "execute_result"
    }
   ],
   "source": [
    "div_inf02 = root.xpath(\".//div[@class='info2']\")[0]\n",
    "div_inf02"
   ]
  },
  {
   "cell_type": "code",
   "execution_count": 120,
   "metadata": {},
   "outputs": [
    {
     "name": "stdout",
     "output_type": "stream",
     "text": [
      "1\n",
      "2\n",
      "3\n"
     ]
    }
   ],
   "source": [
    "for x in div_inf02.xpath(\".//li\"):\n",
    "    print(x.text)"
   ]
  },
  {
   "cell_type": "code",
   "execution_count": null,
   "metadata": {},
   "outputs": [],
   "source": []
  }
 ],
 "metadata": {
  "kernelspec": {
   "display_name": "Python 3",
   "language": "python",
   "name": "python3"
  },
  "language_info": {
   "codemirror_mode": {
    "name": "ipython",
    "version": 3
   },
   "file_extension": ".py",
   "mimetype": "text/x-python",
   "name": "python",
   "nbconvert_exporter": "python",
   "pygments_lexer": "ipython3",
   "version": "3.6.6"
  }
 },
 "nbformat": 4,
 "nbformat_minor": 2
}
