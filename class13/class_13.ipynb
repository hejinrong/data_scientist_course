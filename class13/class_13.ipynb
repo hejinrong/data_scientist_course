{
 "cells": [
  {
   "cell_type": "markdown",
   "metadata": {},
   "source": [
    "# 数据采集（七）：爬虫数据保存之文件、Mysql、MongoDB"
   ]
  },
  {
   "cell_type": "markdown",
   "metadata": {},
   "source": [
    "## 文件类型保存"
   ]
  },
  {
   "cell_type": "markdown",
   "metadata": {},
   "source": [
    "#### 1.保存HTML文件"
   ]
  },
  {
   "cell_type": "code",
   "execution_count": 2,
   "metadata": {},
   "outputs": [],
   "source": [
    "import urllib.request\n",
    "url='https://blog.csdn.net/'\n",
    "header={\n",
    "   'User-Agent':'Mozilla/5.0 (X11; Fedora; Linux x86_64) AppleWebKit/537.36 (KHTML, like Gecko) Chrome/58.0.3029.110 Safari/537.36'\n",
    "}\n",
    "request=urllib.request.Request(url,headers=header)\n",
    "reponse=urllib.request.urlopen(request).read()\n",
    "\n",
    "fhandle=open(\"csdn.html\",\"wb\")\n",
    "fhandle.write(reponse)\n",
    "fhandle.close()"
   ]
  },
  {
   "cell_type": "markdown",
   "metadata": {},
   "source": [
    "#### 2.保存JSON文件"
   ]
  },
  {
   "cell_type": "code",
   "execution_count": 11,
   "metadata": {},
   "outputs": [],
   "source": [
    "urls = ['http//www.cyzone.cn/company/480955.html','http//www.cyzone.cn/company/480954.html']        #详情页\n",
    "companies = ['MyTaiwanTour','Stilla Technologies']   #公司名称\n",
    "money = ['150万美元','1800万美元']       #融资额\n",
    "frounds = ['战略投资','A轮']     #融资轮次\n",
    "investors = ['投资方未披露','投资方未披露']   #融资方\n",
    "businesses = ['旅游','医疗健康']  #行业\n",
    "update_times = ['2018-11-21','2018-11-21'] #跟新时间"
   ]
  },
  {
   "cell_type": "code",
   "execution_count": 12,
   "metadata": {},
   "outputs": [],
   "source": [
    "table_dict = {'公司名称':companies,'融资金额':money,'融资轮次':frounds,'投资方':investors,'行业':businesses,'更新时间':update_times,'详情URL':urls}\n",
    "# 创建数据表"
   ]
  },
  {
   "cell_type": "code",
   "execution_count": 13,
   "metadata": {},
   "outputs": [
    {
     "data": {
      "text/plain": [
       "{'公司名称': ['MyTaiwanTour', 'Stilla Technologies'],\n",
       " '融资金额': ['150万美元', '1800万美元'],\n",
       " '融资轮次': ['战略投资', 'A轮'],\n",
       " '投资方': ['投资方未披露', '投资方未披露'],\n",
       " '行业': ['旅游', '医疗健康'],\n",
       " '更新时间': ['2018-11-21', '2018-11-21'],\n",
       " '详情URL': ['http//www.cyzone.cn/company/480955.html',\n",
       "  'http//www.cyzone.cn/company/480954.html']}"
      ]
     },
     "execution_count": 13,
     "metadata": {},
     "output_type": "execute_result"
    }
   ],
   "source": [
    "table_dict"
   ]
  },
  {
   "cell_type": "code",
   "execution_count": 19,
   "metadata": {},
   "outputs": [],
   "source": [
    "import json"
   ]
  },
  {
   "cell_type": "code",
   "execution_count": 26,
   "metadata": {},
   "outputs": [
    {
     "name": "stdout",
     "output_type": "stream",
     "text": [
      "{\"公司名称\": [\"MyTaiwanTour\", \"Stilla Technologies\"], \"融资金额\": [\"150万美元\", \"1800万美元\"], \"融资轮次\": [\"战略投资\", \"A轮\"], \"投资方\": [\"投资方未披露\", \"投资方未披露\"], \"行业\": [\"旅游\", \"医疗健康\"], \"更新时间\": [\"2018-11-21\", \"2018-11-21\"], \"详情URL\": [\"http//www.cyzone.cn/company/480955.html\", \"http//www.cyzone.cn/company/480954.html\"]}\n"
     ]
    }
   ],
   "source": [
    "json_str = json.dumps(table_dict,ensure_ascii=False)\n",
    "print(json_str)"
   ]
  },
  {
   "cell_type": "code",
   "execution_count": 25,
   "metadata": {},
   "outputs": [],
   "source": [
    "with open(\"table_dict.json\",\"w\") as fp:\n",
    "    json.dump(table_dict,ensure_ascii=False,fp=fp)"
   ]
  },
  {
   "cell_type": "code",
   "execution_count": 30,
   "metadata": {},
   "outputs": [
    {
     "name": "stdout",
     "output_type": "stream",
     "text": [
      "{'公司名称': ['MyTaiwanTour', 'Stilla Technologies'], '融资金额': ['150万美元', '1800万美元'], '融资轮次': ['战略投资', 'A轮'], '投资方': ['投资方未披露', '投资方未披露'], '行业': ['旅游', '医疗健康'], '更新时间': ['2018-11-21', '2018-11-21'], '详情URL': ['http//www.cyzone.cn/company/480955.html', 'http//www.cyzone.cn/company/480954.html']}\n"
     ]
    }
   ],
   "source": [
    "new_str_dict  = json.loads(json_str)\n",
    "print(new_str_dict )"
   ]
  },
  {
   "cell_type": "code",
   "execution_count": 31,
   "metadata": {},
   "outputs": [
    {
     "data": {
      "text/plain": [
       "dict"
      ]
     },
     "execution_count": 31,
     "metadata": {},
     "output_type": "execute_result"
    }
   ],
   "source": [
    "type(new_str_dict )"
   ]
  },
  {
   "cell_type": "code",
   "execution_count": 32,
   "metadata": {},
   "outputs": [
    {
     "name": "stdout",
     "output_type": "stream",
     "text": [
      "{'公司名称': ['MyTaiwanTour', 'Stilla Technologies'], '融资金额': ['150万美元', '1800万美元'], '融资轮次': ['战略投资', 'A轮'], '投资方': ['投资方未披露', '投资方未披露'], '行业': ['旅游', '医疗健康'], '更新时间': ['2018-11-21', '2018-11-21'], '详情URL': ['http//www.cyzone.cn/company/480955.html', 'http//www.cyzone.cn/company/480954.html']}\n"
     ]
    }
   ],
   "source": [
    "with open(\"table_dict.json\",\"r\") as fp:\n",
    "    print(json.load(fp))"
   ]
  },
  {
   "cell_type": "markdown",
   "metadata": {},
   "source": [
    "#### 3.保存CSV文件"
   ]
  },
  {
   "cell_type": "code",
   "execution_count": 14,
   "metadata": {},
   "outputs": [],
   "source": [
    "urls = ['http//www.cyzone.cn/company/480955.html','http//www.cyzone.cn/company/480954.html']        #详情页\n",
    "companies = ['MyTaiwanTour','Stilla Technologies']   #公司名称\n",
    "money = ['150万美元','1800万美元']       #融资额\n",
    "frounds = ['战略投资','A轮']     #融资轮次\n",
    "investors = ['投资方未披露','投资方未披露']   #融资方\n",
    "businesses = ['旅游','医疗健康']  #行业\n",
    "update_times = ['2018-11-21','2018-11-21'] #跟新时间"
   ]
  },
  {
   "cell_type": "code",
   "execution_count": 15,
   "metadata": {},
   "outputs": [],
   "source": [
    "import pandas as pd\n",
    "    \n",
    "table_dict = {'公司名称':companies,'融资金额':money,'融资轮次':frounds,'投资方':investors,'行业':businesses,'更新时间':update_times,'详情URL':urls}\n",
    "# 创建数据表\n",
    "resultsDatas = pd.DataFrame(table_dict)"
   ]
  },
  {
   "cell_type": "code",
   "execution_count": 16,
   "metadata": {},
   "outputs": [
    {
     "data": {
      "text/html": [
       "<div>\n",
       "<style scoped>\n",
       "    .dataframe tbody tr th:only-of-type {\n",
       "        vertical-align: middle;\n",
       "    }\n",
       "\n",
       "    .dataframe tbody tr th {\n",
       "        vertical-align: top;\n",
       "    }\n",
       "\n",
       "    .dataframe thead th {\n",
       "        text-align: right;\n",
       "    }\n",
       "</style>\n",
       "<table border=\"1\" class=\"dataframe\">\n",
       "  <thead>\n",
       "    <tr style=\"text-align: right;\">\n",
       "      <th></th>\n",
       "      <th>公司名称</th>\n",
       "      <th>融资金额</th>\n",
       "      <th>融资轮次</th>\n",
       "      <th>投资方</th>\n",
       "      <th>行业</th>\n",
       "      <th>更新时间</th>\n",
       "      <th>详情URL</th>\n",
       "    </tr>\n",
       "  </thead>\n",
       "  <tbody>\n",
       "    <tr>\n",
       "      <th>0</th>\n",
       "      <td>MyTaiwanTour</td>\n",
       "      <td>150万美元</td>\n",
       "      <td>战略投资</td>\n",
       "      <td>投资方未披露</td>\n",
       "      <td>旅游</td>\n",
       "      <td>2018-11-21</td>\n",
       "      <td>http//www.cyzone.cn/company/480955.html</td>\n",
       "    </tr>\n",
       "    <tr>\n",
       "      <th>1</th>\n",
       "      <td>Stilla Technologies</td>\n",
       "      <td>1800万美元</td>\n",
       "      <td>A轮</td>\n",
       "      <td>投资方未披露</td>\n",
       "      <td>医疗健康</td>\n",
       "      <td>2018-11-21</td>\n",
       "      <td>http//www.cyzone.cn/company/480954.html</td>\n",
       "    </tr>\n",
       "  </tbody>\n",
       "</table>\n",
       "</div>"
      ],
      "text/plain": [
       "                  公司名称     融资金额  融资轮次     投资方    行业        更新时间  \\\n",
       "0         MyTaiwanTour   150万美元  战略投资  投资方未披露    旅游  2018-11-21   \n",
       "1  Stilla Technologies  1800万美元    A轮  投资方未披露  医疗健康  2018-11-21   \n",
       "\n",
       "                                     详情URL  \n",
       "0  http//www.cyzone.cn/company/480955.html  \n",
       "1  http//www.cyzone.cn/company/480954.html  "
      ]
     },
     "execution_count": 16,
     "metadata": {},
     "output_type": "execute_result"
    }
   ],
   "source": [
    "resultsDatas.head()"
   ]
  },
  {
   "cell_type": "code",
   "execution_count": 17,
   "metadata": {},
   "outputs": [],
   "source": [
    "resultsDatas.to_csv(\"resultsDatas.csv\",encoding='utf-8',header=False)"
   ]
  },
  {
   "cell_type": "markdown",
   "metadata": {},
   "source": [
    "## 数据库类型保存"
   ]
  },
  {
   "cell_type": "markdown",
   "metadata": {},
   "source": [
    "#### 1.MySQL数据库存储"
   ]
  },
  {
   "cell_type": "code",
   "execution_count": null,
   "metadata": {},
   "outputs": [],
   "source": [
    "import MySQLdb\n",
    "con = MySQLdb.connect(host=\"localhost\",user=\"root\",password=\"123456\",db='test',port=3306,charset='utf-8')"
   ]
  },
  {
   "cell_type": "code",
   "execution_count": null,
   "metadata": {},
   "outputs": [],
   "source": [
    "cur = con.cursor()"
   ]
  },
  {
   "cell_type": "code",
   "execution_count": null,
   "metadata": {},
   "outputs": [],
   "source": [
    "cur.execute(\"DROP TABLE IF EXISTS EMPLOYEE\")"
   ]
  },
  {
   "cell_type": "code",
   "execution_count": null,
   "metadata": {},
   "outputs": [],
   "source": [
    "# 创建数据表SQL语句\n",
    "sql = \"\"\"CREATE TABLE EMPLOYEE (\n",
    "         FIRST_NAME  CHAR(20) NOT NULL,\n",
    "         LAST_NAME  CHAR(20),\n",
    "         AGE INT,  \n",
    "         SEX CHAR(1),\n",
    "         INCOME FLOAT )\"\"\"\n",
    "\n",
    "cur.execute(sql)"
   ]
  },
  {
   "cell_type": "code",
   "execution_count": null,
   "metadata": {},
   "outputs": [],
   "source": [
    "# SQL 插入语句\n",
    "sql = \"\"\"INSERT INTO EMPLOYEE(FIRST_NAME,\n",
    "         LAST_NAME, AGE, SEX, INCOME)\n",
    "         VALUES ('Mac', 'Mohan', 20, 'M', 2000)\"\"\"\n",
    "try:\n",
    "    cur.execute(sql)\n",
    "    db.commit()\n",
    "except:\n",
    "   # 回滚\n",
    "   db.rollback()"
   ]
  },
  {
   "cell_type": "code",
   "execution_count": null,
   "metadata": {},
   "outputs": [],
   "source": [
    "# SQL 查询语句\n",
    "sql = \"SELECT * FROM EMPLOYEE \\\n",
    "       WHERE INCOME > %s\" % (1000)\n",
    "try:\n",
    "    cur.execute(sql)\n",
    "    results = cur.fetchall()\n",
    "    for row in results:\n",
    "        fname = row[0]\n",
    "        lname = row[1]\n",
    "        age = row[2]\n",
    "        sex = row[3]\n",
    "        income = row[4]\n",
    "        # 打印结果\n",
    "        print(\"fname=%s,lname=%s,age=%s,sex=%s,income=%s\" % \\\n",
    "             (fname, lname, age, sex, income ))\n",
    "except:\n",
    "      print(\"Error:获取数据失败！\")\n"
   ]
  },
  {
   "cell_type": "code",
   "execution_count": null,
   "metadata": {},
   "outputs": [],
   "source": [
    "# 关闭数据库连接\n",
    "db.close()"
   ]
  },
  {
   "cell_type": "markdown",
   "metadata": {},
   "source": [
    "#### 2.MongoDB 存储"
   ]
  },
  {
   "cell_type": "code",
   "execution_count": 60,
   "metadata": {},
   "outputs": [],
   "source": [
    "from pymongo import MongoClient\n",
    "\n",
    "client = MongoClient('localhost', 27017)"
   ]
  },
  {
   "cell_type": "code",
   "execution_count": 61,
   "metadata": {},
   "outputs": [],
   "source": [
    "db = client.mydb  #连接mydb数据库，没有则自动创建"
   ]
  },
  {
   "cell_type": "code",
   "execution_count": 62,
   "metadata": {},
   "outputs": [
    {
     "data": {
      "text/plain": [
       "Database(MongoClient(host=['localhost:27017'], document_class=dict, tz_aware=False, connect=True), 'mydb')"
      ]
     },
     "execution_count": 62,
     "metadata": {},
     "output_type": "execute_result"
    }
   ],
   "source": [
    "db"
   ]
  },
  {
   "cell_type": "code",
   "execution_count": 63,
   "metadata": {},
   "outputs": [],
   "source": [
    "doc = {\"author\":\"鲁迅\",\"date\":\"2018-01-01\",\"book_name\":\"朝花夕拾\"}"
   ]
  },
  {
   "cell_type": "code",
   "execution_count": 64,
   "metadata": {},
   "outputs": [],
   "source": [
    "#创建books集合，即表\n",
    "col = db.books"
   ]
  },
  {
   "cell_type": "code",
   "execution_count": 65,
   "metadata": {},
   "outputs": [
    {
     "name": "stderr",
     "output_type": "stream",
     "text": [
      "d:\\programdata\\anaconda2\\envs\\py3\\lib\\site-packages\\ipykernel_launcher.py:1: DeprecationWarning: insert is deprecated. Use insert_one or insert_many instead.\n",
      "  \"\"\"Entry point for launching an IPython kernel.\n"
     ]
    }
   ],
   "source": [
    "book_id = col.insert(doc)"
   ]
  },
  {
   "cell_type": "code",
   "execution_count": 66,
   "metadata": {},
   "outputs": [
    {
     "data": {
      "text/plain": [
       "ObjectId('5c0bb1bc9fb62a2864557dfc')"
      ]
     },
     "execution_count": 66,
     "metadata": {},
     "output_type": "execute_result"
    }
   ],
   "source": [
    "book_id"
   ]
  },
  {
   "cell_type": "code",
   "execution_count": 67,
   "metadata": {},
   "outputs": [
    {
     "data": {
      "text/plain": [
       "{'_id': ObjectId('5c0bad309fb62a2864557dfa'),\n",
       " 'author': '鲁迅',\n",
       " 'date': '1929-01-01',\n",
       " 'book_name': '朝花夕拾'}"
      ]
     },
     "execution_count": 67,
     "metadata": {},
     "output_type": "execute_result"
    }
   ],
   "source": [
    "col.find_one()"
   ]
  },
  {
   "cell_type": "code",
   "execution_count": 68,
   "metadata": {},
   "outputs": [
    {
     "name": "stderr",
     "output_type": "stream",
     "text": [
      "d:\\programdata\\anaconda2\\envs\\py3\\lib\\site-packages\\ipykernel_launcher.py:1: DeprecationWarning: update is deprecated. Use replace_one, update_one or update_many instead.\n",
      "  \"\"\"Entry point for launching an IPython kernel.\n"
     ]
    },
    {
     "data": {
      "text/plain": [
       "{'n': 1, 'nModified': 0, 'ok': 1.0, 'updatedExisting': True}"
      ]
     },
     "execution_count": 68,
     "metadata": {},
     "output_type": "execute_result"
    }
   ],
   "source": [
    "col.update({\"author\":\"鲁迅\"},{\"$set\":{\"date\":\"1929-01-01\"}})"
   ]
  },
  {
   "cell_type": "code",
   "execution_count": 69,
   "metadata": {},
   "outputs": [
    {
     "data": {
      "text/plain": [
       "{'_id': ObjectId('5c0bad309fb62a2864557dfa'),\n",
       " 'author': '鲁迅',\n",
       " 'date': '1929-01-01',\n",
       " 'book_name': '朝花夕拾'}"
      ]
     },
     "execution_count": 69,
     "metadata": {},
     "output_type": "execute_result"
    }
   ],
   "source": [
    "col.find_one()"
   ]
  },
  {
   "cell_type": "code",
   "execution_count": null,
   "metadata": {},
   "outputs": [],
   "source": []
  },
  {
   "cell_type": "code",
   "execution_count": null,
   "metadata": {},
   "outputs": [],
   "source": []
  }
 ],
 "metadata": {
  "kernelspec": {
   "display_name": "Python 3",
   "language": "python",
   "name": "python3"
  },
  "language_info": {
   "codemirror_mode": {
    "name": "ipython",
    "version": 3
   },
   "file_extension": ".py",
   "mimetype": "text/x-python",
   "name": "python",
   "nbconvert_exporter": "python",
   "pygments_lexer": "ipython3",
   "version": "3.6.6"
  }
 },
 "nbformat": 4,
 "nbformat_minor": 2
}
