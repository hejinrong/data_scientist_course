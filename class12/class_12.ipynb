{
 "cells": [
  {
   "cell_type": "markdown",
   "metadata": {},
   "source": [
    "# 数据采集（六）：Selenium 动态网站抓取"
   ]
  },
  {
   "cell_type": "markdown",
   "metadata": {},
   "source": [
    "#### 1. Selenium的简介与安装\n"
   ]
  },
  {
   "cell_type": "markdown",
   "metadata": {},
   "source": [
    "#### 运行：pip install Selenium"
   ]
  },
  {
   "cell_type": "code",
   "execution_count": 1,
   "metadata": {},
   "outputs": [],
   "source": [
    "from selenium import webdriver"
   ]
  },
  {
   "cell_type": "code",
   "execution_count": 2,
   "metadata": {},
   "outputs": [],
   "source": [
    "browser = webdriver.Chrome()"
   ]
  },
  {
   "cell_type": "markdown",
   "metadata": {},
   "source": [
    "#### 2. Selenium快速入门"
   ]
  },
  {
   "cell_type": "markdown",
   "metadata": {},
   "source": [
    "#### 2.1获取站的Html页面"
   ]
  },
  {
   "cell_type": "code",
   "execution_count": 5,
   "metadata": {},
   "outputs": [],
   "source": [
    "from selenium import webdriver\n",
    "browser = webdriver.Chrome()\n",
    "browser.get('https://blog.csdn.net/')\n",
    "source = browser.page_source#browser.page_source是获取网页的全部html\n",
    "f = open(\"csdn.txt\",'a',encoding='utf-8')\n",
    "f.write(source)\n",
    "f.close()\n",
    "browser.close()"
   ]
  },
  {
   "cell_type": "markdown",
   "metadata": {},
   "source": [
    "#### 2.2查找元素"
   ]
  },
  {
   "cell_type": "code",
   "execution_count": 17,
   "metadata": {},
   "outputs": [
    {
     "name": "stdout",
     "output_type": "stream",
     "text": [
      "<selenium.webdriver.remote.webelement.WebElement (session=\"2bd86d665fad47e17e0c49bacec52a4e\", element=\"0.7132367076932757-1\")>\n",
      "<selenium.webdriver.remote.webelement.WebElement (session=\"2bd86d665fad47e17e0c49bacec52a4e\", element=\"0.7132367076932757-1\")>\n",
      "<selenium.webdriver.remote.webelement.WebElement (session=\"2bd86d665fad47e17e0c49bacec52a4e\", element=\"0.7132367076932757-1\")>\n",
      "<selenium.webdriver.remote.webelement.WebElement (session=\"2bd86d665fad47e17e0c49bacec52a4e\", element=\"0.7132367076932757-1\")>\n"
     ]
    }
   ],
   "source": [
    "from selenium import webdriver\n",
    "browser = webdriver.Chrome()\n",
    "browser.get('https://www.baidu.com/')\n",
    "input_by_id = browser.find_element_by_id('kw')\n",
    "input_by_css_selector = browser.find_element_by_css_selector('#kw')\n",
    "input_by_xpath = browser.find_element_by_xpath('//*[@id=\"kw\"]')\n",
    "input_by_class_name = browser.find_element_by_class_name('s_ipt')\n",
    "print(input_by_id)\n",
    "print(input_by_css_selector)\n",
    "print(input_by_xpath)\n",
    "print(input_by_class_name)\n",
    "browser.close()"
   ]
  },
  {
   "cell_type": "markdown",
   "metadata": {},
   "source": [
    "#### 2.3搜索框传入关键词进行自动搜索"
   ]
  },
  {
   "cell_type": "code",
   "execution_count": 15,
   "metadata": {},
   "outputs": [],
   "source": [
    "from selenium import webdriver\n",
    "import time\n",
    "browser = webdriver.Chrome()\n",
    "browser.get('https://www.baidu.com/')\n",
    "input = browser.find_element_by_id('kw')#找到搜索框\n",
    "input.send_keys('数据学科家')#传送入关键词\n",
    "time.sleep(5)\n",
    "button = browser.find_element_by_id('su')#找到搜索按钮\n",
    "button.click()"
   ]
  },
  {
   "cell_type": "markdown",
   "metadata": {},
   "source": [
    "#### 3. Selenium动态爬虫实战"
   ]
  },
  {
   "cell_type": "code",
   "execution_count": 1,
   "metadata": {},
   "outputs": [],
   "source": [
    "from selenium import webdriver\n",
    "import time\n",
    "import urllib\n",
    "class ImageSpider(object):\n",
    "    def __init__(self, wd=\"\", maxPage = 5):\n",
    "        self.url = \"https://image.baidu.com/search/flip?tn=baiduimage&ie=utf-8&word=\"+wd\n",
    "        self.wb = webdriver.Chrome()\n",
    "        self.deep = maxPage\n",
    "        self.start = 1\n",
    "        self.path=\"D://demo//data_drk//ch12//images//\"\n",
    "    def first(self):\n",
    "        self.wb.get(self.url)\n",
    "        self.parse()\n",
    "        self.onNext()\n",
    " \n",
    "    def onNext(self):\n",
    "        self.start += 1\n",
    "        time.sleep(2)\n",
    "        # 解析网页\n",
    "        self.parse()\n",
    "        # 通过xpath方法匹配页码指示器\n",
    "        element = self.wb.find_element_by_xpath(\"//div[@id='page']\")\n",
    "        for el in element.find_elements_by_xpath(\".//span[@class='pc']\"):\n",
    "            # 获取页码\n",
    "            str = el.text\n",
    "            num = int(str)\n",
    "            # 比较页码，不满足条件则关闭程序\n",
    "            if num > self.deep:\n",
    "                self.close()\n",
    "            #     继续执行下一页操作\n",
    "            if num == self.start:\n",
    "                el.click()\n",
    "                self.onNext()\n",
    "    def parse(self):\n",
    "        # 通过xpath匹配当前网页的所有图片的最上层节点\n",
    "        imgs = self.wb.find_element_by_xpath('''//div[@id=\"wrapper\"]''')\n",
    "        i = 0\n",
    "        # 匹配所有的图片节点，遍历下载\n",
    "        for img in imgs.find_elements_by_xpath(\".//img\"):\n",
    "            i = i + 1\n",
    "            # 获取img标签的连接\n",
    "            url = img.get_attribute(\"src\")\n",
    "            print(url)\n",
    "            # 给下载模块下载图片\n",
    "            self.download_images(url)\n",
    "    #关闭爬虫\n",
    "    def close(self):\n",
    "        self.wb.close()\n",
    "    def download_images(self,url):\n",
    "        time.sleep(2)\n",
    "        # 截取文件名，避免文件名过长只截取最后20位\n",
    "        fileName = url.split(\"/\")[-1:][0][-20:]\n",
    "        #获取文件参数\n",
    "        req = urllib.request.Request(url) \n",
    "        conn = urllib.request.urlopen(req)\n",
    "        #获取文件后缀名\n",
    "        sub = conn.headers['Content-Type'].split(\"/\")[-1:][0]\n",
    "        print('sss:',sub)\n",
    "        conn.close()\n",
    "        #如果这个超链接不包含后缀名，则加上一个后缀名\n",
    "        if fileName.find(\".\") == -1:\n",
    "            fileName = fileName+sub\n",
    "        print(fileName)\n",
    "        print(\"downloading with urllib\")\n",
    "        urllib.request.urlretrieve(url, self.path+fileName)"
   ]
  },
  {
   "cell_type": "code",
   "execution_count": 2,
   "metadata": {},
   "outputs": [
    {
     "name": "stdout",
     "output_type": "stream",
     "text": [
      "https://ss1.bdstatic.com/70cFuXSh_Q1YnxGkpoWK1HF6hhy/it/u=3880072780,1032427331&fm=200&gp=0.jpg\n",
      "sss: jpeg\n",
      "7331&fm=200&gp=0.jpg\n",
      "downloading with urllib\n",
      "https://ss0.bdstatic.com/70cFvHSh_Q1YnxGkpoWK1HF6hhy/it/u=590640148,3189125648&fm=200&gp=0.jpg\n",
      "sss: jpeg\n",
      "5648&fm=200&gp=0.jpg\n",
      "downloading with urllib\n",
      "https://ss2.bdstatic.com/70cFvnSh_Q1YnxGkpoWK1HF6hhy/it/u=4167773167,2977839953&fm=26&gp=0.jpg\n",
      "sss: jpeg\n",
      "39953&fm=26&gp=0.jpg\n",
      "downloading with urllib\n",
      "https://ss0.bdstatic.com/70cFvHSh_Q1YnxGkpoWK1HF6hhy/it/u=23042467,3619883225&fm=200&gp=0.jpg\n",
      "sss: jpeg\n",
      "3225&fm=200&gp=0.jpg\n",
      "downloading with urllib\n",
      "https://ss0.bdstatic.com/70cFuHSh_Q1YnxGkpoWK1HF6hhy/it/u=3176656704,4135871960&fm=26&gp=0.jpg\n",
      "sss: jpeg\n",
      "71960&fm=26&gp=0.jpg\n",
      "downloading with urllib\n",
      "https://ss2.bdstatic.com/70cFvnSh_Q1YnxGkpoWK1HF6hhy/it/u=488151815,2133376803&fm=26&gp=0.jpg\n",
      "sss: jpeg\n",
      "76803&fm=26&gp=0.jpg\n",
      "downloading with urllib\n",
      "https://ss1.bdstatic.com/70cFuXSh_Q1YnxGkpoWK1HF6hhy/it/u=3970290485,1926647464&fm=26&gp=0.jpg\n",
      "sss: jpeg\n",
      "47464&fm=26&gp=0.jpg\n",
      "downloading with urllib\n",
      "https://ss1.bdstatic.com/70cFuXSh_Q1YnxGkpoWK1HF6hhy/it/u=2613562546,3452068439&fm=26&gp=0.jpg\n",
      "sss: jpeg\n",
      "68439&fm=26&gp=0.jpg\n",
      "downloading with urllib\n",
      "https://ss1.bdstatic.com/70cFuXSh_Q1YnxGkpoWK1HF6hhy/it/u=2677730085,1418241380&fm=26&gp=0.jpg\n",
      "sss: jpeg\n",
      "41380&fm=26&gp=0.jpg\n",
      "downloading with urllib\n",
      "https://ss1.bdstatic.com/70cFvXSh_Q1YnxGkpoWK1HF6hhy/it/u=2834009448,3496240733&fm=26&gp=0.jpg\n",
      "sss: jpeg\n",
      "40733&fm=26&gp=0.jpg\n",
      "downloading with urllib\n",
      "https://ss1.bdstatic.com/70cFuXSh_Q1YnxGkpoWK1HF6hhy/it/u=1745590078,1764619549&fm=200&gp=0.jpg\n",
      "sss: jpeg\n",
      "9549&fm=200&gp=0.jpg\n",
      "downloading with urllib\n",
      "https://ss3.bdstatic.com/70cFv8Sh_Q1YnxGkpoWK1HF6hhy/it/u=1020140651,4104840104&fm=200&gp=0.jpg\n",
      "sss: jpeg\n",
      "0104&fm=200&gp=0.jpg\n",
      "downloading with urllib\n",
      "https://ss0.bdstatic.com/70cFuHSh_Q1YnxGkpoWK1HF6hhy/it/u=1919881008,4281891344&fm=26&gp=0.jpg\n",
      "sss: jpeg\n",
      "91344&fm=26&gp=0.jpg\n",
      "downloading with urllib\n",
      "https://ss0.bdstatic.com/70cFvHSh_Q1YnxGkpoWK1HF6hhy/it/u=1793363542,2746637136&fm=26&gp=0.jpg\n",
      "sss: jpeg\n",
      "37136&fm=26&gp=0.jpg\n",
      "downloading with urllib\n",
      "https://ss0.bdstatic.com/70cFvHSh_Q1YnxGkpoWK1HF6hhy/it/u=2469943959,1062090825&fm=26&gp=0.jpg\n",
      "sss: jpeg\n",
      "90825&fm=26&gp=0.jpg\n",
      "downloading with urllib\n",
      "https://ss1.bdstatic.com/70cFuXSh_Q1YnxGkpoWK1HF6hhy/it/u=817211736,577043087&fm=26&gp=0.jpg\n",
      "sss: jpeg\n",
      "43087&fm=26&gp=0.jpg\n",
      "downloading with urllib\n",
      "https://ss1.bdstatic.com/70cFuXSh_Q1YnxGkpoWK1HF6hhy/it/u=2780847505,4093641698&fm=26&gp=0.jpg\n",
      "sss: jpeg\n",
      "41698&fm=26&gp=0.jpg\n",
      "downloading with urllib\n",
      "https://ss0.bdstatic.com/70cFvHSh_Q1YnxGkpoWK1HF6hhy/it/u=1729750446,26648616&fm=26&gp=0.jpg\n",
      "sss: jpeg\n",
      "48616&fm=26&gp=0.jpg\n",
      "downloading with urllib\n",
      "https://ss0.bdstatic.com/70cFuHSh_Q1YnxGkpoWK1HF6hhy/it/u=347822275,2306250537&fm=26&gp=0.jpg\n",
      "sss: jpeg\n",
      "50537&fm=26&gp=0.jpg\n",
      "downloading with urllib\n",
      "https://ss3.bdstatic.com/70cFv8Sh_Q1YnxGkpoWK1HF6hhy/it/u=2473816755,568201284&fm=26&gp=0.jpg\n",
      "sss: jpeg\n",
      "01284&fm=26&gp=0.jpg\n",
      "downloading with urllib\n",
      "https://ss1.bdstatic.com/70cFuXSh_Q1YnxGkpoWK1HF6hhy/it/u=3880072780,1032427331&fm=200&gp=0.jpg\n",
      "sss: jpeg\n",
      "7331&fm=200&gp=0.jpg\n",
      "downloading with urllib\n",
      "https://ss0.bdstatic.com/70cFvHSh_Q1YnxGkpoWK1HF6hhy/it/u=590640148,3189125648&fm=200&gp=0.jpg\n",
      "sss: jpeg\n",
      "5648&fm=200&gp=0.jpg\n",
      "downloading with urllib\n",
      "https://ss2.bdstatic.com/70cFvnSh_Q1YnxGkpoWK1HF6hhy/it/u=4167773167,2977839953&fm=26&gp=0.jpg\n",
      "sss: jpeg\n",
      "39953&fm=26&gp=0.jpg\n",
      "downloading with urllib\n",
      "https://ss0.bdstatic.com/70cFvHSh_Q1YnxGkpoWK1HF6hhy/it/u=23042467,3619883225&fm=200&gp=0.jpg\n",
      "sss: jpeg\n",
      "3225&fm=200&gp=0.jpg\n",
      "downloading with urllib\n",
      "https://ss0.bdstatic.com/70cFuHSh_Q1YnxGkpoWK1HF6hhy/it/u=3176656704,4135871960&fm=26&gp=0.jpg\n",
      "sss: jpeg\n",
      "71960&fm=26&gp=0.jpg\n",
      "downloading with urllib\n",
      "https://ss2.bdstatic.com/70cFvnSh_Q1YnxGkpoWK1HF6hhy/it/u=488151815,2133376803&fm=26&gp=0.jpg\n",
      "sss: jpeg\n",
      "76803&fm=26&gp=0.jpg\n",
      "downloading with urllib\n",
      "https://ss1.bdstatic.com/70cFuXSh_Q1YnxGkpoWK1HF6hhy/it/u=3970290485,1926647464&fm=26&gp=0.jpg\n",
      "sss: jpeg\n",
      "47464&fm=26&gp=0.jpg\n",
      "downloading with urllib\n",
      "https://ss1.bdstatic.com/70cFuXSh_Q1YnxGkpoWK1HF6hhy/it/u=2613562546,3452068439&fm=26&gp=0.jpg\n",
      "sss: jpeg\n",
      "68439&fm=26&gp=0.jpg\n",
      "downloading with urllib\n",
      "https://ss1.bdstatic.com/70cFuXSh_Q1YnxGkpoWK1HF6hhy/it/u=2677730085,1418241380&fm=26&gp=0.jpg\n",
      "sss: jpeg\n",
      "41380&fm=26&gp=0.jpg\n",
      "downloading with urllib\n",
      "https://ss1.bdstatic.com/70cFvXSh_Q1YnxGkpoWK1HF6hhy/it/u=2834009448,3496240733&fm=26&gp=0.jpg\n",
      "sss: jpeg\n",
      "40733&fm=26&gp=0.jpg\n",
      "downloading with urllib\n",
      "https://ss1.bdstatic.com/70cFuXSh_Q1YnxGkpoWK1HF6hhy/it/u=1745590078,1764619549&fm=200&gp=0.jpg\n",
      "sss: jpeg\n",
      "9549&fm=200&gp=0.jpg\n",
      "downloading with urllib\n",
      "https://ss3.bdstatic.com/70cFv8Sh_Q1YnxGkpoWK1HF6hhy/it/u=1020140651,4104840104&fm=200&gp=0.jpg\n",
      "sss: jpeg\n",
      "0104&fm=200&gp=0.jpg\n",
      "downloading with urllib\n",
      "https://ss0.bdstatic.com/70cFuHSh_Q1YnxGkpoWK1HF6hhy/it/u=1919881008,4281891344&fm=26&gp=0.jpg\n",
      "sss: jpeg\n",
      "91344&fm=26&gp=0.jpg\n",
      "downloading with urllib\n",
      "https://ss0.bdstatic.com/70cFvHSh_Q1YnxGkpoWK1HF6hhy/it/u=1793363542,2746637136&fm=26&gp=0.jpg\n",
      "sss: jpeg\n",
      "37136&fm=26&gp=0.jpg\n",
      "downloading with urllib\n",
      "https://ss0.bdstatic.com/70cFvHSh_Q1YnxGkpoWK1HF6hhy/it/u=2469943959,1062090825&fm=26&gp=0.jpg\n",
      "sss: jpeg\n",
      "90825&fm=26&gp=0.jpg\n",
      "downloading with urllib\n",
      "https://ss1.bdstatic.com/70cFuXSh_Q1YnxGkpoWK1HF6hhy/it/u=817211736,577043087&fm=26&gp=0.jpg\n",
      "sss: jpeg\n",
      "43087&fm=26&gp=0.jpg\n",
      "downloading with urllib\n",
      "https://ss1.bdstatic.com/70cFuXSh_Q1YnxGkpoWK1HF6hhy/it/u=2780847505,4093641698&fm=26&gp=0.jpg\n",
      "sss: jpeg\n",
      "41698&fm=26&gp=0.jpg\n",
      "downloading with urllib\n",
      "https://ss0.bdstatic.com/70cFvHSh_Q1YnxGkpoWK1HF6hhy/it/u=1729750446,26648616&fm=26&gp=0.jpg\n",
      "sss: jpeg\n",
      "48616&fm=26&gp=0.jpg\n",
      "downloading with urllib\n",
      "https://ss0.bdstatic.com/70cFuHSh_Q1YnxGkpoWK1HF6hhy/it/u=347822275,2306250537&fm=26&gp=0.jpg\n",
      "sss: jpeg\n",
      "50537&fm=26&gp=0.jpg\n",
      "downloading with urllib\n",
      "https://ss3.bdstatic.com/70cFv8Sh_Q1YnxGkpoWK1HF6hhy/it/u=2473816755,568201284&fm=26&gp=0.jpg\n",
      "sss: jpeg\n",
      "01284&fm=26&gp=0.jpg\n",
      "downloading with urllib\n"
     ]
    },
    {
     "ename": "WebDriverException",
     "evalue": "Message: invalid session id\n  (Driver info: chromedriver=70.0.3538.97 (d035916fe243477005bc95fe2a5778b8f20b6ae1),platform=Windows NT 10.0.17134 x86_64)\n",
     "output_type": "error",
     "traceback": [
      "\u001b[1;31m---------------------------------------------------------------------------\u001b[0m",
      "\u001b[1;31mWebDriverException\u001b[0m                        Traceback (most recent call last)",
      "\u001b[1;32m<ipython-input-2-4ec9e32f1b5d>\u001b[0m in \u001b[0;36m<module>\u001b[1;34m\u001b[0m\n\u001b[0;32m      1\u001b[0m \u001b[1;31m#开始抓取数据 关键字 和 最大页数\u001b[0m\u001b[1;33m\u001b[0m\u001b[1;33m\u001b[0m\u001b[0m\n\u001b[0;32m      2\u001b[0m \u001b[0mspider\u001b[0m \u001b[1;33m=\u001b[0m \u001b[0mImgSpider\u001b[0m\u001b[1;33m(\u001b[0m\u001b[1;34m\"猫咪\"\u001b[0m\u001b[1;33m,\u001b[0m \u001b[1;36m1\u001b[0m\u001b[1;33m)\u001b[0m\u001b[1;33m\u001b[0m\u001b[0m\n\u001b[1;32m----> 3\u001b[1;33m \u001b[0mspider\u001b[0m\u001b[1;33m.\u001b[0m\u001b[0mfirst\u001b[0m\u001b[1;33m(\u001b[0m\u001b[1;33m)\u001b[0m\u001b[1;33m\u001b[0m\u001b[0m\n\u001b[0m",
      "\u001b[1;32m<ipython-input-1-15279b75bb2e>\u001b[0m in \u001b[0;36mfirst\u001b[1;34m(self)\u001b[0m\n\u001b[0;32m     12\u001b[0m         \u001b[0mself\u001b[0m\u001b[1;33m.\u001b[0m\u001b[0mwb\u001b[0m\u001b[1;33m.\u001b[0m\u001b[0mget\u001b[0m\u001b[1;33m(\u001b[0m\u001b[0mself\u001b[0m\u001b[1;33m.\u001b[0m\u001b[0murl\u001b[0m\u001b[1;33m)\u001b[0m\u001b[1;33m\u001b[0m\u001b[0m\n\u001b[0;32m     13\u001b[0m         \u001b[0mself\u001b[0m\u001b[1;33m.\u001b[0m\u001b[0mparse\u001b[0m\u001b[1;33m(\u001b[0m\u001b[1;33m)\u001b[0m\u001b[1;33m\u001b[0m\u001b[0m\n\u001b[1;32m---> 14\u001b[1;33m         \u001b[0mself\u001b[0m\u001b[1;33m.\u001b[0m\u001b[0monNext\u001b[0m\u001b[1;33m(\u001b[0m\u001b[1;33m)\u001b[0m\u001b[1;33m\u001b[0m\u001b[0m\n\u001b[0m\u001b[0;32m     15\u001b[0m \u001b[1;33m\u001b[0m\u001b[0m\n\u001b[0;32m     16\u001b[0m     \u001b[1;32mdef\u001b[0m \u001b[0monNext\u001b[0m\u001b[1;33m(\u001b[0m\u001b[0mself\u001b[0m\u001b[1;33m)\u001b[0m\u001b[1;33m:\u001b[0m\u001b[1;33m\u001b[0m\u001b[0m\n",
      "\u001b[1;32m<ipython-input-1-15279b75bb2e>\u001b[0m in \u001b[0;36monNext\u001b[1;34m(self)\u001b[0m\n\u001b[0;32m     30\u001b[0m             \u001b[1;31m#     继续执行下一页操作\u001b[0m\u001b[1;33m\u001b[0m\u001b[1;33m\u001b[0m\u001b[0m\n\u001b[0;32m     31\u001b[0m             \u001b[1;32mif\u001b[0m \u001b[0mnum\u001b[0m \u001b[1;33m==\u001b[0m \u001b[0mself\u001b[0m\u001b[1;33m.\u001b[0m\u001b[0mstart\u001b[0m\u001b[1;33m:\u001b[0m\u001b[1;33m\u001b[0m\u001b[0m\n\u001b[1;32m---> 32\u001b[1;33m                 \u001b[0mel\u001b[0m\u001b[1;33m.\u001b[0m\u001b[0mclick\u001b[0m\u001b[1;33m(\u001b[0m\u001b[1;33m)\u001b[0m\u001b[1;33m\u001b[0m\u001b[0m\n\u001b[0m\u001b[0;32m     33\u001b[0m                 \u001b[0mself\u001b[0m\u001b[1;33m.\u001b[0m\u001b[0monNext\u001b[0m\u001b[1;33m(\u001b[0m\u001b[1;33m)\u001b[0m\u001b[1;33m\u001b[0m\u001b[0m\n\u001b[0;32m     34\u001b[0m     \u001b[1;32mdef\u001b[0m \u001b[0mparse\u001b[0m\u001b[1;33m(\u001b[0m\u001b[0mself\u001b[0m\u001b[1;33m)\u001b[0m\u001b[1;33m:\u001b[0m\u001b[1;33m\u001b[0m\u001b[0m\n",
      "\u001b[1;32md:\\programdata\\anaconda2\\envs\\py3\\lib\\site-packages\\selenium\\webdriver\\remote\\webelement.py\u001b[0m in \u001b[0;36mclick\u001b[1;34m(self)\u001b[0m\n\u001b[0;32m     78\u001b[0m     \u001b[1;32mdef\u001b[0m \u001b[0mclick\u001b[0m\u001b[1;33m(\u001b[0m\u001b[0mself\u001b[0m\u001b[1;33m)\u001b[0m\u001b[1;33m:\u001b[0m\u001b[1;33m\u001b[0m\u001b[0m\n\u001b[0;32m     79\u001b[0m         \u001b[1;34m\"\"\"Clicks the element.\"\"\"\u001b[0m\u001b[1;33m\u001b[0m\u001b[0m\n\u001b[1;32m---> 80\u001b[1;33m         \u001b[0mself\u001b[0m\u001b[1;33m.\u001b[0m\u001b[0m_execute\u001b[0m\u001b[1;33m(\u001b[0m\u001b[0mCommand\u001b[0m\u001b[1;33m.\u001b[0m\u001b[0mCLICK_ELEMENT\u001b[0m\u001b[1;33m)\u001b[0m\u001b[1;33m\u001b[0m\u001b[0m\n\u001b[0m\u001b[0;32m     81\u001b[0m \u001b[1;33m\u001b[0m\u001b[0m\n\u001b[0;32m     82\u001b[0m     \u001b[1;32mdef\u001b[0m \u001b[0msubmit\u001b[0m\u001b[1;33m(\u001b[0m\u001b[0mself\u001b[0m\u001b[1;33m)\u001b[0m\u001b[1;33m:\u001b[0m\u001b[1;33m\u001b[0m\u001b[0m\n",
      "\u001b[1;32md:\\programdata\\anaconda2\\envs\\py3\\lib\\site-packages\\selenium\\webdriver\\remote\\webelement.py\u001b[0m in \u001b[0;36m_execute\u001b[1;34m(self, command, params)\u001b[0m\n\u001b[0;32m    631\u001b[0m             \u001b[0mparams\u001b[0m \u001b[1;33m=\u001b[0m \u001b[1;33m{\u001b[0m\u001b[1;33m}\u001b[0m\u001b[1;33m\u001b[0m\u001b[0m\n\u001b[0;32m    632\u001b[0m         \u001b[0mparams\u001b[0m\u001b[1;33m[\u001b[0m\u001b[1;34m'id'\u001b[0m\u001b[1;33m]\u001b[0m \u001b[1;33m=\u001b[0m \u001b[0mself\u001b[0m\u001b[1;33m.\u001b[0m\u001b[0m_id\u001b[0m\u001b[1;33m\u001b[0m\u001b[0m\n\u001b[1;32m--> 633\u001b[1;33m         \u001b[1;32mreturn\u001b[0m \u001b[0mself\u001b[0m\u001b[1;33m.\u001b[0m\u001b[0m_parent\u001b[0m\u001b[1;33m.\u001b[0m\u001b[0mexecute\u001b[0m\u001b[1;33m(\u001b[0m\u001b[0mcommand\u001b[0m\u001b[1;33m,\u001b[0m \u001b[0mparams\u001b[0m\u001b[1;33m)\u001b[0m\u001b[1;33m\u001b[0m\u001b[0m\n\u001b[0m\u001b[0;32m    634\u001b[0m \u001b[1;33m\u001b[0m\u001b[0m\n\u001b[0;32m    635\u001b[0m     \u001b[1;32mdef\u001b[0m \u001b[0mfind_element\u001b[0m\u001b[1;33m(\u001b[0m\u001b[0mself\u001b[0m\u001b[1;33m,\u001b[0m \u001b[0mby\u001b[0m\u001b[1;33m=\u001b[0m\u001b[0mBy\u001b[0m\u001b[1;33m.\u001b[0m\u001b[0mID\u001b[0m\u001b[1;33m,\u001b[0m \u001b[0mvalue\u001b[0m\u001b[1;33m=\u001b[0m\u001b[1;32mNone\u001b[0m\u001b[1;33m)\u001b[0m\u001b[1;33m:\u001b[0m\u001b[1;33m\u001b[0m\u001b[0m\n",
      "\u001b[1;32md:\\programdata\\anaconda2\\envs\\py3\\lib\\site-packages\\selenium\\webdriver\\remote\\webdriver.py\u001b[0m in \u001b[0;36mexecute\u001b[1;34m(self, driver_command, params)\u001b[0m\n\u001b[0;32m    319\u001b[0m         \u001b[0mresponse\u001b[0m \u001b[1;33m=\u001b[0m \u001b[0mself\u001b[0m\u001b[1;33m.\u001b[0m\u001b[0mcommand_executor\u001b[0m\u001b[1;33m.\u001b[0m\u001b[0mexecute\u001b[0m\u001b[1;33m(\u001b[0m\u001b[0mdriver_command\u001b[0m\u001b[1;33m,\u001b[0m \u001b[0mparams\u001b[0m\u001b[1;33m)\u001b[0m\u001b[1;33m\u001b[0m\u001b[0m\n\u001b[0;32m    320\u001b[0m         \u001b[1;32mif\u001b[0m \u001b[0mresponse\u001b[0m\u001b[1;33m:\u001b[0m\u001b[1;33m\u001b[0m\u001b[0m\n\u001b[1;32m--> 321\u001b[1;33m             \u001b[0mself\u001b[0m\u001b[1;33m.\u001b[0m\u001b[0merror_handler\u001b[0m\u001b[1;33m.\u001b[0m\u001b[0mcheck_response\u001b[0m\u001b[1;33m(\u001b[0m\u001b[0mresponse\u001b[0m\u001b[1;33m)\u001b[0m\u001b[1;33m\u001b[0m\u001b[0m\n\u001b[0m\u001b[0;32m    322\u001b[0m             response['value'] = self._unwrap_value(\n\u001b[0;32m    323\u001b[0m                 response.get('value', None))\n",
      "\u001b[1;32md:\\programdata\\anaconda2\\envs\\py3\\lib\\site-packages\\selenium\\webdriver\\remote\\errorhandler.py\u001b[0m in \u001b[0;36mcheck_response\u001b[1;34m(self, response)\u001b[0m\n\u001b[0;32m    240\u001b[0m                 \u001b[0malert_text\u001b[0m \u001b[1;33m=\u001b[0m \u001b[0mvalue\u001b[0m\u001b[1;33m[\u001b[0m\u001b[1;34m'alert'\u001b[0m\u001b[1;33m]\u001b[0m\u001b[1;33m.\u001b[0m\u001b[0mget\u001b[0m\u001b[1;33m(\u001b[0m\u001b[1;34m'text'\u001b[0m\u001b[1;33m)\u001b[0m\u001b[1;33m\u001b[0m\u001b[0m\n\u001b[0;32m    241\u001b[0m             \u001b[1;32mraise\u001b[0m \u001b[0mexception_class\u001b[0m\u001b[1;33m(\u001b[0m\u001b[0mmessage\u001b[0m\u001b[1;33m,\u001b[0m \u001b[0mscreen\u001b[0m\u001b[1;33m,\u001b[0m \u001b[0mstacktrace\u001b[0m\u001b[1;33m,\u001b[0m \u001b[0malert_text\u001b[0m\u001b[1;33m)\u001b[0m\u001b[1;33m\u001b[0m\u001b[0m\n\u001b[1;32m--> 242\u001b[1;33m         \u001b[1;32mraise\u001b[0m \u001b[0mexception_class\u001b[0m\u001b[1;33m(\u001b[0m\u001b[0mmessage\u001b[0m\u001b[1;33m,\u001b[0m \u001b[0mscreen\u001b[0m\u001b[1;33m,\u001b[0m \u001b[0mstacktrace\u001b[0m\u001b[1;33m)\u001b[0m\u001b[1;33m\u001b[0m\u001b[0m\n\u001b[0m\u001b[0;32m    243\u001b[0m \u001b[1;33m\u001b[0m\u001b[0m\n\u001b[0;32m    244\u001b[0m     \u001b[1;32mdef\u001b[0m \u001b[0m_value_or_default\u001b[0m\u001b[1;33m(\u001b[0m\u001b[0mself\u001b[0m\u001b[1;33m,\u001b[0m \u001b[0mobj\u001b[0m\u001b[1;33m,\u001b[0m \u001b[0mkey\u001b[0m\u001b[1;33m,\u001b[0m \u001b[0mdefault\u001b[0m\u001b[1;33m)\u001b[0m\u001b[1;33m:\u001b[0m\u001b[1;33m\u001b[0m\u001b[0m\n",
      "\u001b[1;31mWebDriverException\u001b[0m: Message: invalid session id\n  (Driver info: chromedriver=70.0.3538.97 (d035916fe243477005bc95fe2a5778b8f20b6ae1),platform=Windows NT 10.0.17134 x86_64)\n"
     ]
    }
   ],
   "source": [
    "#开始抓取数据 关键字 和 最大页数\n",
    "spider = ImageSpider(\"猫咪\", 1)\n",
    "spider.first()"
   ]
  }
 ],
 "metadata": {
  "kernelspec": {
   "display_name": "Python 3",
   "language": "python",
   "name": "python3"
  },
  "language_info": {
   "codemirror_mode": {
    "name": "ipython",
    "version": 3
   },
   "file_extension": ".py",
   "mimetype": "text/x-python",
   "name": "python",
   "nbconvert_exporter": "python",
   "pygments_lexer": "ipython3",
   "version": "3.6.6"
  }
 },
 "nbformat": 4,
 "nbformat_minor": 2
}
