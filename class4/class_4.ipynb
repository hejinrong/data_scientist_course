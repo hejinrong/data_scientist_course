{
 "cells": [
  {
   "cell_type": "markdown",
   "metadata": {},
   "source": [
    "# python基础（四）：面向对象、异常处理、多线程"
   ]
  },
  {
   "cell_type": "markdown",
   "metadata": {},
   "source": [
    "#### 1.面向对象"
   ]
  },
  {
   "cell_type": "code",
   "execution_count": 56,
   "metadata": {},
   "outputs": [],
   "source": [
    "#类定义\n",
    "class people(object):\n",
    "    #定义基本属性\n",
    "    name = ''\n",
    "    age = 0\n",
    "    weight = 0\n",
    "    height = 0\n",
    "    #定义构造方法\n",
    "    def __init__(self,name,age,weight,height):\n",
    "        self.name = name\n",
    "        self.age = age\n",
    "        self.weight = weight\n",
    "        self.height = height\n",
    "    def speak(self):\n",
    "        print(\"%s 说: 我的年龄是：%d 岁，体重是：%d kg,身高是：%d cm。\" %(self.name,self.age,self.weight,self.height))"
   ]
  },
  {
   "cell_type": "code",
   "execution_count": 57,
   "metadata": {},
   "outputs": [
    {
     "name": "stdout",
     "output_type": "stream",
     "text": [
      "Soyoger 说: 我的年龄是：28 岁，体重是：60 kg,身高是：170 cm。\n"
     ]
    }
   ],
   "source": [
    "# 实例化类\n",
    "p = people('Soyoger',28,60,170)\n",
    "p.speak()"
   ]
  },
  {
   "cell_type": "code",
   "execution_count": 58,
   "metadata": {},
   "outputs": [],
   "source": [
    "class engineer(people):\n",
    "    occupation = ''   \n",
    "    def __init__(self,name,age,weight,height,occupation):\n",
    "        #调用父类的构函\n",
    "        people.__init__(self,name,age,weight,height)\n",
    "        self.occupation = occupation\n",
    "    #覆写父类的方法\n",
    "    def speak(self):\n",
    "        print(\"%s 说: 我的年龄是：%d 岁，体重是：%d kg,身高是：%d cm，职业是 %s。\" %(self.name,self.age,self.weight,self.height,self.occupation))\n",
    "    \n",
    "    def work(self):\n",
    "        print(\"%s 说: 我的职业是：%s ,每天都要coding。\" %(self.name,self.occupation))"
   ]
  },
  {
   "cell_type": "code",
   "execution_count": 59,
   "metadata": {},
   "outputs": [
    {
     "name": "stdout",
     "output_type": "stream",
     "text": [
      "Soyoger 说: 我的年龄是：28 岁，体重是：60 kg,身高是：170 cm，职业是 Programmer。\n"
     ]
    }
   ],
   "source": [
    "# 实例化类\n",
    "eng = engineer('Soyoger',28,60,170,'Programmer')\n",
    "eng.speak()"
   ]
  },
  {
   "cell_type": "code",
   "execution_count": 60,
   "metadata": {},
   "outputs": [
    {
     "name": "stdout",
     "output_type": "stream",
     "text": [
      "Soyoger 说: 我的职业是：Programmer ,每天都要coding。\n"
     ]
    }
   ],
   "source": [
    "eng.work()"
   ]
  },
  {
   "cell_type": "code",
   "execution_count": null,
   "metadata": {},
   "outputs": [],
   "source": []
  },
  {
   "cell_type": "markdown",
   "metadata": {},
   "source": [
    "#### 2.异常处理"
   ]
  },
  {
   "cell_type": "code",
   "execution_count": 61,
   "metadata": {},
   "outputs": [
    {
     "name": "stdout",
     "output_type": "stream",
     "text": [
      "Hello world\n"
     ]
    }
   ],
   "source": [
    "#语法错误\n",
    "print('Hello world')"
   ]
  },
  {
   "cell_type": "code",
   "execution_count": 62,
   "metadata": {},
   "outputs": [
    {
     "name": "stdout",
     "output_type": "stream",
     "text": [
      "文件不存在!\n"
     ]
    }
   ],
   "source": [
    "try:\n",
    "    f = open('file.txt')\n",
    "    s = f.readline()\n",
    "    print(s)\n",
    "except:\n",
    "    print(\"文件不存在!\")"
   ]
  },
  {
   "cell_type": "code",
   "execution_count": 63,
   "metadata": {},
   "outputs": [
    {
     "name": "stdout",
     "output_type": "stream",
     "text": [
      "2\n"
     ]
    }
   ],
   "source": [
    "mydict = {\"a\":1,\"b\":2}\n",
    "if isinstance(mydict,dict):\n",
    "    c = mydict.get(\"b\")\n",
    "    if c:\n",
    "        print(c)\n",
    "    else:\n",
    "        raise Exception(\"c is not exists!\")"
   ]
  },
  {
   "cell_type": "code",
   "execution_count": 64,
   "metadata": {},
   "outputs": [
    {
     "ename": "Exception",
     "evalue": "c is not exists!",
     "output_type": "error",
     "traceback": [
      "\u001b[1;31m---------------------------------------------------------------------------\u001b[0m",
      "\u001b[1;31mException\u001b[0m                                 Traceback (most recent call last)",
      "\u001b[1;32m<ipython-input-64-e8fdfbd5b165>\u001b[0m in \u001b[0;36m<module>\u001b[1;34m()\u001b[0m\n\u001b[0;32m      5\u001b[0m         \u001b[1;32mprint\u001b[0m\u001b[1;33m(\u001b[0m\u001b[0mc\u001b[0m\u001b[1;33m)\u001b[0m\u001b[1;33m\u001b[0m\u001b[0m\n\u001b[0;32m      6\u001b[0m     \u001b[1;32melse\u001b[0m\u001b[1;33m:\u001b[0m\u001b[1;33m\u001b[0m\u001b[0m\n\u001b[1;32m----> 7\u001b[1;33m         \u001b[1;32mraise\u001b[0m \u001b[0mException\u001b[0m\u001b[1;33m(\u001b[0m\u001b[1;34m\"c is not exists!\"\u001b[0m\u001b[1;33m)\u001b[0m\u001b[1;33m\u001b[0m\u001b[0m\n\u001b[0m",
      "\u001b[1;31mException\u001b[0m: c is not exists!"
     ]
    }
   ],
   "source": [
    "mydict = {\"a\":1,\"b\":2}\n",
    "if isinstance(mydict,dict):\n",
    "    c = mydict.get(\"c\")\n",
    "    if c:\n",
    "        print(c)\n",
    "    else:\n",
    "        raise Exception(\"c is not exists!\")"
   ]
  },
  {
   "cell_type": "code",
   "execution_count": null,
   "metadata": {},
   "outputs": [],
   "source": []
  },
  {
   "cell_type": "markdown",
   "metadata": {},
   "source": [
    "#### 3.多线程"
   ]
  },
  {
   "cell_type": "code",
   "execution_count": null,
   "metadata": {},
   "outputs": [],
   "source": [
    "import _thread\n",
    "\n",
    "# 为线程定义一个函数\n",
    "def thread_fun1( threadName):\n",
    "     print(threadName)\n",
    "\n",
    "# 创建两个线程\n",
    "try:\n",
    "    _thread.start_new_thread( thread_fun1, (\"Thread-1\") )\n",
    "    _thread.start_new_thread( thread_fun1, (\"Thread-2\") )\n",
    "except:\n",
    "    print (\"Error: 无法启动线程\")"
   ]
  },
  {
   "cell_type": "code",
   "execution_count": null,
   "metadata": {},
   "outputs": [],
   "source": []
  },
  {
   "cell_type": "code",
   "execution_count": null,
   "metadata": {},
   "outputs": [],
   "source": []
  },
  {
   "cell_type": "code",
   "execution_count": null,
   "metadata": {},
   "outputs": [],
   "source": []
  },
  {
   "cell_type": "code",
   "execution_count": null,
   "metadata": {},
   "outputs": [],
   "source": []
  }
 ],
 "metadata": {
  "kernelspec": {
   "display_name": "Python 2",
   "language": "python",
   "name": "python2"
  },
  "language_info": {
   "codemirror_mode": {
    "name": "ipython",
    "version": 2
   },
   "file_extension": ".py",
   "mimetype": "text/x-python",
   "name": "python",
   "nbconvert_exporter": "python",
   "pygments_lexer": "ipython2",
   "version": "2.7.15"
  }
 },
 "nbformat": 4,
 "nbformat_minor": 2
}
